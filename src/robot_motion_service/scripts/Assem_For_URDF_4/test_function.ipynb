{
 "cells": [
  {
   "cell_type": "code",
   "execution_count": 4,
   "metadata": {},
   "outputs": [
    {
     "ename": "error",
     "evalue": "Only one local in-process GUI/GUI_SERVER connection allowed. Use DIRECT connection mode or start a separate GUI physics server (ExampleBrowser, App_SharedMemoryPhysics_GUI, App_SharedMemoryPhysics_VR) and connect over SHARED_MEMORY, UDP or TCP instead.",
     "output_type": "error",
     "traceback": [
      "\u001b[1;31m---------------------------------------------------------------------------\u001b[0m",
      "\u001b[1;31merror\u001b[0m                                     Traceback (most recent call last)",
      "Cell \u001b[1;32mIn[4], line 2\u001b[0m\n\u001b[0;32m      1\u001b[0m \u001b[38;5;28;01mfrom\u001b[39;00m \u001b[38;5;21;01mkinematic\u001b[39;00m \u001b[38;5;28;01mimport\u001b[39;00m FiboX_Borot\n\u001b[1;32m----> 2\u001b[0m robot \u001b[38;5;241m=\u001b[39m \u001b[43mFiboX_Borot\u001b[49m\u001b[43m(\u001b[49m\u001b[38;5;124;43mr\u001b[39;49m\u001b[38;5;124;43m\"\u001b[39;49m\u001b[38;5;124;43mC:\u001b[39;49m\u001b[38;5;130;43;01m\\\\\u001b[39;49;00m\u001b[38;5;124;43mUsers\u001b[39;49m\u001b[38;5;130;43;01m\\\\\u001b[39;49;00m\u001b[38;5;124;43mToey\u001b[39;49m\u001b[38;5;130;43;01m\\\\\u001b[39;49;00m\u001b[38;5;124;43mDesktop\u001b[39;49m\u001b[38;5;130;43;01m\\\\\u001b[39;49;00m\u001b[38;5;124;43mAssem_For_URDF_4\u001b[39;49m\u001b[38;5;130;43;01m\\\\\u001b[39;49;00m\u001b[38;5;124;43murdf\u001b[39;49m\u001b[38;5;130;43;01m\\\\\u001b[39;49;00m\u001b[38;5;124;43mAssem_For_URDF_4.urdf\u001b[39;49m\u001b[38;5;124;43m\"\u001b[39;49m\u001b[43m)\u001b[49m\n\u001b[0;32m      3\u001b[0m position \u001b[38;5;241m=\u001b[39m [\u001b[38;5;241m0.3\u001b[39m, \u001b[38;5;241m-\u001b[39m\u001b[38;5;241m0.3\u001b[39m, \u001b[38;5;241m0.3\u001b[39m]\n\u001b[0;32m      4\u001b[0m orientation \u001b[38;5;241m=\u001b[39m [\u001b[38;5;241m0\u001b[39m, \u001b[38;5;241m0\u001b[39m, \u001b[38;5;241m0\u001b[39m]\n",
      "File \u001b[1;32mc:\\Users\\Toey\\Desktop\\Assem_For_URDF_4\\kinematic.py:11\u001b[0m, in \u001b[0;36mFiboX_Borot.__init__\u001b[1;34m(self, urdf_path)\u001b[0m\n\u001b[0;32m      9\u001b[0m \u001b[38;5;28;01mdef\u001b[39;00m \u001b[38;5;21m__init__\u001b[39m(\u001b[38;5;28mself\u001b[39m, urdf_path):\n\u001b[0;32m     10\u001b[0m     \u001b[38;5;66;03m# p.connect(p.DIRECT)\u001b[39;00m\n\u001b[1;32m---> 11\u001b[0m     \u001b[43mp\u001b[49m\u001b[38;5;241;43m.\u001b[39;49m\u001b[43mconnect\u001b[49m\u001b[43m(\u001b[49m\u001b[43mp\u001b[49m\u001b[38;5;241;43m.\u001b[39;49m\u001b[43mGUI\u001b[49m\u001b[43m)\u001b[49m\n\u001b[0;32m     12\u001b[0m     p\u001b[38;5;241m.\u001b[39msetAdditionalSearchPath(pybullet_data\u001b[38;5;241m.\u001b[39mgetDataPath())\n\u001b[0;32m     13\u001b[0m     \u001b[38;5;28mself\u001b[39m\u001b[38;5;241m.\u001b[39mrobot_id \u001b[38;5;241m=\u001b[39m p\u001b[38;5;241m.\u001b[39mloadURDF(urdf_path, useFixedBase\u001b[38;5;241m=\u001b[39m\u001b[38;5;28;01mTrue\u001b[39;00m)\n",
      "\u001b[1;31merror\u001b[0m: Only one local in-process GUI/GUI_SERVER connection allowed. Use DIRECT connection mode or start a separate GUI physics server (ExampleBrowser, App_SharedMemoryPhysics_GUI, App_SharedMemoryPhysics_VR) and connect over SHARED_MEMORY, UDP or TCP instead."
     ]
    }
   ],
   "source": [
    "from kinematic import FiboX_Borot\n",
    "robot = FiboX_Borot(r\"C:\\\\Users\\\\Toey\\\\Desktop\\\\Assem_For_URDF_4\\\\urdf\\\\Assem_For_URDF_4.urdf\")\n",
    "position = [0.3, -0.3, 0.3]\n",
    "orientation = [0, 0, 0]\n",
    "\n",
    "joint_angles = robot.compute_ink(position, orientation, apply_adjustment=False)\n",
    "# print(joint_angles)\n"
   ]
  },
  {
   "cell_type": "code",
   "execution_count": null,
   "metadata": {},
   "outputs": [],
   "source": []
  },
  {
   "cell_type": "code",
   "execution_count": null,
   "metadata": {},
   "outputs": [],
   "source": []
  }
 ],
 "metadata": {
  "kernelspec": {
   "display_name": "Python 3",
   "language": "python",
   "name": "python3"
  },
  "language_info": {
   "codemirror_mode": {
    "name": "ipython",
    "version": 3
   },
   "file_extension": ".py",
   "mimetype": "text/x-python",
   "name": "python",
   "nbconvert_exporter": "python",
   "pygments_lexer": "ipython3",
   "version": "3.10.15"
  }
 },
 "nbformat": 4,
 "nbformat_minor": 2
}
